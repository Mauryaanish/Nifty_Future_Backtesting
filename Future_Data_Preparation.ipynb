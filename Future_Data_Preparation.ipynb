{
 "cells": [
  {
   "cell_type": "code",
   "execution_count": 2,
   "id": "445be080",
   "metadata": {},
   "outputs": [],
   "source": [
    "import pandas as pd\n",
    "import numpy as np"
   ]
  },
  {
   "cell_type": "code",
   "execution_count": 17,
   "id": "40cc3fee",
   "metadata": {},
   "outputs": [],
   "source": [
    "# Enter Row data \n",
    "def Cleaning(data):\n",
    "    df = pd.read_csv(data)\n",
    "    df['date'] = df['date'].apply(lambda x: x.split(\"+\")[0])\n",
    "    df['date']=pd.to_datetime(df['date'])\n",
    "    df['Year'] = df['date'].dt.year\n",
    "    df['Month'] = df['date'].dt.month\n",
    "    df['Day'] = df['date'].dt.day\n",
    "    df.drop(['volume', 'sma5', 'sma10',\n",
    "       'sma15', 'sma20', 'ema5', 'ema10', 'ema15', 'ema20', 'upperband',\n",
    "       'middleband', 'lowerband', 'HT_TRENDLINE', 'KAMA10', 'KAMA20', 'KAMA30',\n",
    "       'SAR', 'TRIMA5', 'TRIMA10', 'TRIMA20', 'ADX5', 'ADX10', 'ADX20', 'APO',\n",
    "       'CCI5', 'CCI10', 'CCI15', 'macd510', 'macd520', 'macd1020', 'macd1520',\n",
    "       'macd1226', 'MFI', 'MOM10', 'MOM15', 'MOM20', 'ROC5', 'ROC10', 'ROC20',\n",
    "       'PPO', 'RSI8', 'slowk', 'slowd', 'fastk', 'fastd', 'fastksr',\n",
    "       'fastdsr', 'ULTOSC', 'WILLR', 'ATR', 'Trange', 'TYPPRICE',\n",
    "       'HT_DCPERIOD', 'BETA'],axis = 1,inplace = True)\n",
    "    df.to_csv('New_data.csv',index = False)"
   ]
  },
  {
   "cell_type": "code",
   "execution_count": 23,
   "id": "1ddf8bf6",
   "metadata": {},
   "outputs": [],
   "source": [
    "df='NIFTY 50 - 5 minute_with_indicators_.csv'\n",
    "Cleaning(df)"
   ]
  },
  {
   "cell_type": "code",
   "execution_count": 28,
   "id": "b98a289f",
   "metadata": {},
   "outputs": [],
   "source": [
    "# Seprate a data month wise\n",
    "def save_data(y,m):\n",
    "    #Enter Clean Data\n",
    "    data=pd.read_csv('New_data.csv')\n",
    "    df1 = data[(data['Year'] == y) & (data['Month'] == m)]\n",
    "    df1 = df1.reset_index(drop = 'Frist')\n",
    "    df1.to_csv(f'{y}_{m}_data',index = False)"
   ]
  },
  {
   "cell_type": "code",
   "execution_count": 25,
   "id": "0844b2a6",
   "metadata": {},
   "outputs": [],
   "source": [
    "Month_list = [1,2,3,4,5,6,7,8,9,10,11,12]"
   ]
  },
  {
   "cell_type": "code",
   "execution_count": 27,
   "id": "23d318d0",
   "metadata": {},
   "outputs": [],
   "source": [
    "for month in Month_list:\n",
    "    save_data(2021, month)"
   ]
  },
  {
   "cell_type": "code",
   "execution_count": null,
   "id": "57011498",
   "metadata": {},
   "outputs": [],
   "source": []
  }
 ],
 "metadata": {
  "kernelspec": {
   "display_name": "Python 3 (ipykernel)",
   "language": "python",
   "name": "python3"
  },
  "language_info": {
   "codemirror_mode": {
    "name": "ipython",
    "version": 3
   },
   "file_extension": ".py",
   "mimetype": "text/x-python",
   "name": "python",
   "nbconvert_exporter": "python",
   "pygments_lexer": "ipython3",
   "version": "3.11.4"
  }
 },
 "nbformat": 4,
 "nbformat_minor": 5
}
